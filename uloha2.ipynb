{
 "cells": [
  {
   "cell_type": "code",
   "execution_count": 34,
   "metadata": {},
   "outputs": [],
   "source": [
    "from __future__ import division\n",
    "import sys\n",
    "sys.path.insert(0, \"~/.local/lib/python3.6/site-packages\")\n",
    "\n",
    "import sympy\n",
    "from sympy import *\n",
    "from sympy.physics.quantum import *\n",
    "\n",
    "T = TensorProduct"
   ]
  },
  {
   "cell_type": "code",
   "execution_count": 13,
   "metadata": {},
   "outputs": [
    {
     "data": {
      "text/latex": [
       "$\\displaystyle Set\\left(\\frac{\\sqrt{2} \\left({\\left|+\\right\\rangle } + {\\left|-\\right\\rangle }\\right)}{2}, \\frac{\\sqrt{2} \\left({\\left|+\\right\\rangle } - {\\left|-\\right\\rangle }\\right)}{2}\\right)$"
      ],
      "text/plain": [
       "Set(sqrt(2)*(|+> + |->)/2, sqrt(2)*(|+> - |->)/2)"
      ]
     },
     "execution_count": 13,
     "metadata": {},
     "output_type": "execute_result"
    }
   ],
   "source": [
    "kplus = OrthogonalKet(\"+\")\n",
    "kminus = OrthogonalKet(\"-\")\n",
    "kzero = (kplus + kminus)/sqrt(2)\n",
    "kone = (kplus - kminus)/sqrt(2)\n",
    "Set(kzero, kone)"
   ]
  },
  {
   "cell_type": "code",
   "execution_count": 105,
   "metadata": {},
   "outputs": [
    {
     "data": {
      "text/latex": [
       "$\\displaystyle \\frac{\\sqrt{6} {{\\left|+\\right\\rangle }}\\otimes {{\\left|+\\right\\rangle }}\\otimes {{\\left|+\\right\\rangle }}}{12} + \\frac{\\sqrt{3} {{\\left|+\\right\\rangle }}\\otimes {{\\left|+\\right\\rangle }}\\otimes {{\\left|+\\right\\rangle }}}{6} - \\frac{\\sqrt{6} {{\\left|+\\right\\rangle }}\\otimes {{\\left|+\\right\\rangle }}\\otimes {{\\left|-\\right\\rangle }}}{12} + \\frac{\\sqrt{3} {{\\left|+\\right\\rangle }}\\otimes {{\\left|+\\right\\rangle }}\\otimes {{\\left|-\\right\\rangle }}}{6} - \\frac{\\sqrt{3} {{\\left|+\\right\\rangle }}\\otimes {{\\left|-\\right\\rangle }}\\otimes {{\\left|+\\right\\rangle }}}{6} + \\frac{\\sqrt{6} {{\\left|+\\right\\rangle }}\\otimes {{\\left|-\\right\\rangle }}\\otimes {{\\left|+\\right\\rangle }}}{12} - \\frac{\\sqrt{3} {{\\left|+\\right\\rangle }}\\otimes {{\\left|-\\right\\rangle }}\\otimes {{\\left|-\\right\\rangle }}}{6} - \\frac{\\sqrt{6} {{\\left|+\\right\\rangle }}\\otimes {{\\left|-\\right\\rangle }}\\otimes {{\\left|-\\right\\rangle }}}{12} - \\frac{\\sqrt{6} {{\\left|-\\right\\rangle }}\\otimes {{\\left|+\\right\\rangle }}\\otimes {{\\left|+\\right\\rangle }}}{12} + \\frac{\\sqrt{3} {{\\left|-\\right\\rangle }}\\otimes {{\\left|+\\right\\rangle }}\\otimes {{\\left|+\\right\\rangle }}}{6} + \\frac{\\sqrt{6} {{\\left|-\\right\\rangle }}\\otimes {{\\left|+\\right\\rangle }}\\otimes {{\\left|-\\right\\rangle }}}{12} + \\frac{\\sqrt{3} {{\\left|-\\right\\rangle }}\\otimes {{\\left|+\\right\\rangle }}\\otimes {{\\left|-\\right\\rangle }}}{6} - \\frac{\\sqrt{3} {{\\left|-\\right\\rangle }}\\otimes {{\\left|-\\right\\rangle }}\\otimes {{\\left|+\\right\\rangle }}}{6} - \\frac{\\sqrt{6} {{\\left|-\\right\\rangle }}\\otimes {{\\left|-\\right\\rangle }}\\otimes {{\\left|+\\right\\rangle }}}{12} - \\frac{\\sqrt{3} {{\\left|-\\right\\rangle }}\\otimes {{\\left|-\\right\\rangle }}\\otimes {{\\left|-\\right\\rangle }}}{6} + \\frac{\\sqrt{6} {{\\left|-\\right\\rangle }}\\otimes {{\\left|-\\right\\rangle }}\\otimes {{\\left|-\\right\\rangle }}}{12}$"
      ],
      "text/plain": [
       "sqrt(6)*|+>x|+>x|+>/12 + sqrt(3)*|+>x|+>x|+>/6 - sqrt(6)*|+>x|+>x|->/12 + sqrt(3)*|+>x|+>x|->/6 - sqrt(3)*|+>x|->x|+>/6 + sqrt(6)*|+>x|->x|+>/12 - sqrt(3)*|+>x|->x|->/6 - sqrt(6)*|+>x|->x|->/12 - sqrt(6)*|->x|+>x|+>/12 + sqrt(3)*|->x|+>x|+>/6 + sqrt(6)*|->x|+>x|->/12 + sqrt(3)*|->x|+>x|->/6 - sqrt(3)*|->x|->x|+>/6 - sqrt(6)*|->x|->x|+>/12 - sqrt(3)*|->x|->x|->/6 + sqrt(6)*|->x|->x|->/12"
      ]
     },
     "execution_count": 105,
     "metadata": {},
     "output_type": "execute_result"
    }
   ],
   "source": [
    "psi = T(kone,kzero,kone)/sqrt(3) + sqrt(2)*T(kzero,kone,kzero)/sqrt(3)\n",
    "psi = qapply(psi)\n",
    "psi"
   ]
  },
  {
   "cell_type": "code",
   "execution_count": 106,
   "metadata": {},
   "outputs": [
    {
     "data": {
      "text/latex": [
       "$\\displaystyle \\frac{\\sqrt{6} {\\left|+++\\right\\rangle }}{12} + \\frac{\\sqrt{3} {\\left|+++\\right\\rangle }}{6} - \\frac{\\sqrt{6} {\\left|++-\\right\\rangle }}{12} + \\frac{\\sqrt{3} {\\left|++-\\right\\rangle }}{6} - \\frac{\\sqrt{3} {\\left|+-+\\right\\rangle }}{6} + \\frac{\\sqrt{6} {\\left|+-+\\right\\rangle }}{12} - \\frac{\\sqrt{3} {\\left|+--\\right\\rangle }}{6} - \\frac{\\sqrt{6} {\\left|+--\\right\\rangle }}{12} - \\frac{\\sqrt{6} {\\left|-++\\right\\rangle }}{12} + \\frac{\\sqrt{3} {\\left|-++\\right\\rangle }}{6} + \\frac{\\sqrt{6} {\\left|-+-\\right\\rangle }}{12} + \\frac{\\sqrt{3} {\\left|-+-\\right\\rangle }}{6} - \\frac{\\sqrt{3} {\\left|--+\\right\\rangle }}{6} - \\frac{\\sqrt{6} {\\left|--+\\right\\rangle }}{12} - \\frac{\\sqrt{3} {\\left|---\\right\\rangle }}{6} + \\frac{\\sqrt{6} {\\left|---\\right\\rangle }}{12}$"
      ],
      "text/plain": [
       "sqrt(6)*|+++>/12 + sqrt(3)*|+++>/6 - sqrt(6)*|++->/12 + sqrt(3)*|++->/6 - sqrt(3)*|+-+>/6 + sqrt(6)*|+-+>/12 - sqrt(3)*|+-->/6 - sqrt(6)*|+-->/12 - sqrt(6)*|-++>/12 + sqrt(3)*|-++>/6 + sqrt(6)*|-+->/12 + sqrt(3)*|-+->/6 - sqrt(3)*|--+>/6 - sqrt(6)*|--+>/12 - sqrt(3)*|--->/6 + sqrt(6)*|--->/12"
      ]
     },
     "execution_count": 106,
     "metadata": {},
     "output_type": "execute_result"
    }
   ],
   "source": [
    "w1, w2, w3 = Wild('1'), Wild('2'), Wild('3')\n",
    "psi = psi.replace(\n",
    "    TensorProduct(OrthogonalKet(w1), OrthogonalKet(w2), OrthogonalKet(w3)),\n",
    "    OrthogonalKet(w1, w2, w3)\n",
    ")\n",
    "psi"
   ]
  },
  {
   "cell_type": "code",
   "execution_count": 107,
   "metadata": {},
   "outputs": [
    {
     "data": {
      "text/latex": [
       "$\\displaystyle \\frac{\\sqrt{6} {\\left|+++\\right\\rangle }}{12} + \\frac{\\sqrt{3} {\\left|+++\\right\\rangle }}{6} - \\frac{\\sqrt{3} {\\left|---\\right\\rangle }}{6} + \\frac{\\sqrt{6} {\\left|---\\right\\rangle }}{12}$"
      ],
      "text/plain": [
       "sqrt(6)*|+++>/12 + sqrt(3)*|+++>/6 - sqrt(3)*|--->/6 + sqrt(6)*|--->/12"
      ]
     },
     "execution_count": 107,
     "metadata": {},
     "output_type": "execute_result"
    }
   ],
   "source": [
    "kplus3 = OrthogonalKet('+', '+', '+')\n",
    "kminus3 = OrthogonalKet('-', '-', '-')\n",
    "\n",
    "P = OuterProduct(kplus3, Dagger(kplus3)) + OuterProduct(kminus3, Dagger(kminus3))\n",
    "P = qapply(P)\n",
    "result = qapply(P * psi)\n",
    "result = result.replace(Symbol('+'), Integer(0)).replace(Symbol('-'), Integer(1))\n",
    "result = result.doit()\n",
    "result = result.replace(Integer(0), Symbol('+')).replace(Integer(1), Symbol('-'))\n",
    "result"
   ]
  },
  {
   "cell_type": "code",
   "execution_count": 110,
   "metadata": {},
   "outputs": [
    {
     "data": {
      "text/latex": [
       "$\\displaystyle \\frac{2 \\sqrt{2} + 3}{24}$"
      ],
      "text/plain": [
       "(2*sqrt(2) + 3)/24"
      ]
     },
     "execution_count": 110,
     "metadata": {},
     "output_type": "execute_result"
    }
   ],
   "source": [
    "factor(simplify(abs( sqrt(6)/12 + sqrt(3)/6 )**2))"
   ]
  },
  {
   "cell_type": "code",
   "execution_count": 111,
   "metadata": {},
   "outputs": [
    {
     "data": {
      "text/latex": [
       "$\\displaystyle - \\frac{-3 + 2 \\sqrt{2}}{24}$"
      ],
      "text/plain": [
       "-(-3 + 2*sqrt(2))/24"
      ]
     },
     "execution_count": 111,
     "metadata": {},
     "output_type": "execute_result"
    }
   ],
   "source": [
    "factor(simplify(abs( -sqrt(3)/6 + sqrt(6)/12 )**2))"
   ]
  },
  {
   "cell_type": "code",
   "execution_count": null,
   "metadata": {},
   "outputs": [],
   "source": []
  }
 ],
 "metadata": {
  "kernelspec": {
   "display_name": "Python 3.6.9 64-bit",
   "language": "python",
   "name": "python36964bit0c8c7c5934c14359b9baf18c9a99cdbe"
  },
  "language_info": {
   "codemirror_mode": {
    "name": "ipython",
    "version": 3
   },
   "file_extension": ".py",
   "mimetype": "text/x-python",
   "name": "python",
   "nbconvert_exporter": "python",
   "pygments_lexer": "ipython3",
   "version": "3.6.9"
  }
 },
 "nbformat": 4,
 "nbformat_minor": 2
}
